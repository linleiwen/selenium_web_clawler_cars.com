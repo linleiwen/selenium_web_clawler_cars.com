{
 "cells": [
  {
   "cell_type": "code",
   "execution_count": 10,
   "metadata": {
    "collapsed": true
   },
   "outputs": [],
   "source": [
    "from selenium import webdriver\n",
    "import os\n",
    "from selenium.webdriver.common.by import By\n",
    "driverLocation = \"C:\\\\Users\\leiwen\\workspace\\libs\\chromedriver.exe\"\n",
    "import pandas as pd\n",
    "import numpy as np\n",
    "import time\n",
    "from selenium.webdriver.support.ui import WebDriverWait\n",
    "from selenium.webdriver.support import expected_conditions as EC\n",
    "from selenium.common.exceptions import *\n",
    "import datetime as dt"
   ]
  },
  {
   "cell_type": "code",
   "execution_count": 11,
   "metadata": {
    "collapsed": true
   },
   "outputs": [],
   "source": [
    "baseUrl = \"https://www.cars.com/for-sale/searchresults.action/?page=1&perPage=100&rd=99999&searchSource=GN_REFINEMENT&showMore=true&sort=relevance&stkTypId=28881&yrId=20145&zc=22202\"\n",
    "driver = webdriver.Chrome(driverLocation)\n",
    "driver.get(baseUrl)\n",
    "driver.maximize_window()"
   ]
  },
  {
   "cell_type": "code",
   "execution_count": 12,
   "metadata": {
    "collapsed": true
   },
   "outputs": [],
   "source": [
    "data = pd.DataFrame()"
   ]
  },
  {
   "cell_type": "code",
   "execution_count": 13,
   "metadata": {
    "collapsed": true
   },
   "outputs": [],
   "source": [
    "total = 0"
   ]
  },
  {
   "cell_type": "code",
   "execution_count": 14,
   "metadata": {
    "collapsed": true
   },
   "outputs": [],
   "source": [
    "wait = WebDriverWait(driver, 20, poll_frequency=1,\n",
    "                             ignored_exceptions=[NoSuchElementException,\n",
    "                                                 ElementNotVisibleException,\n",
    "                                                 ElementNotSelectableException])"
   ]
  },
  {
   "cell_type": "code",
   "execution_count": null,
   "metadata": {
    "collapsed": true
   },
   "outputs": [],
   "source": [
    "page_count = 1"
   ]
  },
  {
   "cell_type": "code",
   "execution_count": null,
   "metadata": {},
   "outputs": [
    {
     "name": "stdout",
     "output_type": "stream",
     "text": [
      "there are 100 records in page 1 time:2018-03-19 17:42:14.840213\n",
      "there are 100 records in page 2 time:2018-03-19 17:42:55.487486\n",
      "there are 100 records in page 3 time:2018-03-19 17:43:36.528823\n",
      "there are 100 records in page 4 time:2018-03-19 17:44:22.675853\n",
      "there are 100 records in page 5 time:2018-03-19 17:45:03.377549\n",
      "there are 100 records in page 6 time:2018-03-19 17:45:45.439689\n",
      "there are 100 records in page 7 time:2018-03-19 17:46:28.095507\n",
      "there are 100 records in page 8 time:2018-03-19 17:47:12.658411\n",
      "there are 100 records in page 9 time:2018-03-19 17:47:55.688901\n",
      "there are 100 records in page 10 time:2018-03-19 17:48:40.718771\n",
      "there are 100 records in page 11 time:2018-03-19 17:49:24.084626\n",
      "there are 100 records in page 12 time:2018-03-19 17:50:05.904380\n",
      "there are 100 records in page 13 time:2018-03-19 17:50:48.178645\n",
      "there are 100 records in page 14 time:2018-03-19 17:51:32.295175\n",
      "there are 100 records in page 15 time:2018-03-19 17:52:15.200374\n",
      "there are 100 records in page 16 time:2018-03-19 17:52:59.548470\n",
      "there are 100 records in page 17 time:2018-03-19 17:53:44.055768\n",
      "there are 100 records in page 18 time:2018-03-19 17:54:29.526837\n",
      "there are 100 records in page 19 time:2018-03-19 17:55:15.796495\n",
      "there are 100 records in page 20 time:2018-03-19 17:56:00.992350\n",
      "there are 100 records in page 21 time:2018-03-19 17:56:46.924441\n",
      "there are 100 records in page 22 time:2018-03-19 17:57:31.171341\n",
      "there are 100 records in page 23 time:2018-03-19 17:58:12.837192\n",
      "there are 100 records in page 24 time:2018-03-19 17:58:56.189859\n",
      "there are 100 records in page 25 time:2018-03-19 17:59:36.884001\n",
      "there are 100 records in page 26 time:2018-03-19 18:00:18.185330\n",
      "there are 100 records in page 27 time:2018-03-19 18:01:00.149866\n",
      "there are 100 records in page 28 time:2018-03-19 18:01:40.103820\n",
      "there are 100 records in page 29 time:2018-03-19 18:02:20.003231\n",
      "there are 100 records in page 30 time:2018-03-19 18:03:03.008501\n",
      "there are 100 records in page 31 time:2018-03-19 18:03:44.523341\n",
      "there are 100 records in page 32 time:2018-03-19 18:04:27.075911\n",
      "there are 100 records in page 33 time:2018-03-19 18:05:10.963011\n",
      "there are 100 records in page 34 time:2018-03-19 18:05:54.220495\n",
      "there are 100 records in page 35 time:2018-03-19 18:06:35.542465\n",
      "there are 100 records in page 36 time:2018-03-19 18:07:17.006614\n",
      "there are 100 records in page 37 time:2018-03-19 18:07:58.557848\n",
      "there are 100 records in page 38 time:2018-03-19 18:08:39.015276\n",
      "there are 100 records in page 39 time:2018-03-19 18:09:20.329582\n",
      "there are 100 records in page 40 time:2018-03-19 18:10:00.837035\n",
      "there are 100 records in page 41 time:2018-03-19 18:10:42.097781\n",
      "there are 100 records in page 42 time:2018-03-19 18:11:23.403750\n",
      "there are 100 records in page 43 time:2018-03-19 18:12:03.473343\n",
      "there are 100 records in page 44 time:2018-03-19 18:12:44.449885\n",
      "there are 100 records in page 45 time:2018-03-19 18:13:26.565713\n",
      "there are 100 records in page 46 time:2018-03-19 18:14:09.589382\n",
      "there are 100 records in page 47 time:2018-03-19 18:14:52.267869\n",
      "there are 100 records in page 48 time:2018-03-19 18:15:34.248782\n",
      "there are 100 records in page 49 time:2018-03-19 18:16:15.286208\n",
      "there are 100 records in page 50 time:2018-03-19 18:16:55.074002\n",
      "there are 100 records in page 51 time:2018-03-19 18:17:33.045981\n",
      "there are 100 records in page 52 time:2018-03-19 18:18:01.552729\n",
      "there are 100 records in page 53 time:2018-03-19 18:18:28.335505\n",
      "there are 100 records in page 54 time:2018-03-19 18:18:55.068489\n",
      "there are 100 records in page 55 time:2018-03-19 18:19:22.905212\n",
      "there are 100 records in page 56 time:2018-03-19 18:19:58.355394\n",
      "there are 100 records in page 57 time:2018-03-19 18:20:24.689386\n",
      "there are 100 records in page 58 time:2018-03-19 18:20:51.251092\n",
      "there are 100 records in page 59 time:2018-03-19 18:21:17.646849\n",
      "there are 100 records in page 60 time:2018-03-19 18:21:44.272941\n",
      "there are 100 records in page 61 time:2018-03-19 18:22:10.824104\n",
      "there are 100 records in page 62 time:2018-03-19 18:22:37.350769\n",
      "there are 100 records in page 63 time:2018-03-19 18:23:03.954502\n",
      "there are 100 records in page 64 time:2018-03-19 18:23:30.489700\n",
      "there are 100 records in page 65 time:2018-03-19 18:23:57.158640\n",
      "there are 100 records in page 66 time:2018-03-19 18:24:23.727564\n",
      "there are 100 records in page 67 time:2018-03-19 18:24:50.292685\n",
      "there are 100 records in page 68 time:2018-03-19 18:25:17.132210\n",
      "there are 100 records in page 69 time:2018-03-19 18:25:47.491532\n",
      "there are 100 records in page 70 time:2018-03-19 18:26:19.517024\n",
      "there are 100 records in page 71 time:2018-03-19 18:26:46.086937\n",
      "there are 100 records in page 72 time:2018-03-19 18:27:12.501662\n",
      "there are 100 records in page 73 time:2018-03-19 18:27:39.217333\n",
      "there are 100 records in page 74 time:2018-03-19 18:28:05.597784\n",
      "there are 100 records in page 75 time:2018-03-19 18:28:32.081499\n",
      "there are 100 records in page 76 time:2018-03-19 18:28:58.616709\n",
      "there are 100 records in page 77 time:2018-03-19 18:29:25.062499\n",
      "there are 100 records in page 78 time:2018-03-19 18:29:51.565887\n",
      "there are 100 records in page 79 time:2018-03-19 18:30:18.022577\n",
      "there are 100 records in page 80 time:2018-03-19 18:30:44.615663\n",
      "there are 100 records in page 81 time:2018-03-19 18:31:11.144785\n",
      "there are 100 records in page 82 time:2018-03-19 18:31:37.628766\n",
      "there are 100 records in page 83 time:2018-03-19 18:32:04.137743\n",
      "there are 100 records in page 84 time:2018-03-19 18:32:30.564736\n",
      "there are 100 records in page 85 time:2018-03-19 18:32:57.235064\n",
      "there are 100 records in page 86 time:2018-03-19 18:33:25.371447\n",
      "there are 100 records in page 87 time:2018-03-19 18:33:59.709072\n",
      "there are 100 records in page 88 time:2018-03-19 18:34:26.142846\n",
      "there are 100 records in page 89 time:2018-03-19 18:34:52.641419\n",
      "there are 100 records in page 90 time:2018-03-19 18:35:19.131790\n",
      "there are 100 records in page 91 time:2018-03-19 18:35:45.680145\n",
      "there are 100 records in page 92 time:2018-03-19 18:36:13.504777\n",
      "there are 100 records in page 93 time:2018-03-19 18:36:46.543730\n",
      "there are 100 records in page 94 time:2018-03-19 18:37:14.311830\n",
      "there are 100 records in page 95 time:2018-03-19 18:37:41.156110\n",
      "there are 100 records in page 96 time:2018-03-19 18:38:13.470196\n",
      "there are 100 records in page 97 time:2018-03-19 18:38:42.353472\n",
      "there are 100 records in page 98 time:2018-03-19 18:39:08.904167\n",
      "there are 100 records in page 99 time:2018-03-19 18:39:35.410013\n",
      "there are 100 records in page 100 time:2018-03-19 18:40:01.882270\n",
      "there are 100 records in page 101 time:2018-03-19 18:40:28.475607\n",
      "there are 100 records in page 102 time:2018-03-19 18:40:55.040742\n",
      "there are 100 records in page 103 time:2018-03-19 18:41:21.550759\n",
      "there are 100 records in page 104 time:2018-03-19 18:41:48.075770\n",
      "there are 100 records in page 105 time:2018-03-19 18:42:14.486445\n",
      "there are 100 records in page 106 time:2018-03-19 18:42:40.637284\n",
      "there are 100 records in page 107 time:2018-03-19 18:43:06.770576\n",
      "there are 100 records in page 108 time:2018-03-19 18:43:32.920887\n",
      "there are 100 records in page 109 time:2018-03-19 18:43:59.487296\n",
      "there are 100 records in page 110 time:2018-03-19 18:44:26.292180\n",
      "there are 100 records in page 111 time:2018-03-19 18:44:52.710447\n",
      "there are 100 records in page 112 time:2018-03-19 18:45:19.278780\n",
      "there are 100 records in page 113 time:2018-03-19 18:45:45.488453\n",
      "there are 100 records in page 114 time:2018-03-19 18:46:11.676507\n",
      "there are 100 records in page 115 time:2018-03-19 18:46:37.912170\n",
      "there are 100 records in page 116 time:2018-03-19 18:47:04.114581\n",
      "there are 100 records in page 117 time:2018-03-19 18:47:30.298821\n",
      "there are 100 records in page 118 time:2018-03-19 18:47:56.556177\n",
      "there are 100 records in page 119 time:2018-03-19 18:48:22.695476\n",
      "there are 100 records in page 120 time:2018-03-19 18:48:48.946541\n",
      "there are 100 records in page 121 time:2018-03-19 18:49:15.265823\n",
      "there are 100 records in page 122 time:2018-03-19 18:49:41.513979\n",
      "there are 100 records in page 123 time:2018-03-19 18:50:07.622573\n",
      "there are 100 records in page 124 time:2018-03-19 18:50:33.902627\n",
      "there are 100 records in page 125 time:2018-03-19 18:51:00.080052\n",
      "there are 100 records in page 126 time:2018-03-19 18:51:26.201733\n"
     ]
    },
    {
     "name": "stdout",
     "output_type": "stream",
     "text": [
      "there are 100 records in page 127 time:2018-03-19 18:51:52.485498\n",
      "there are 100 records in page 128 time:2018-03-19 18:52:19.038836\n"
     ]
    }
   ],
   "source": [
    "while(True):\n",
    "    \n",
    "    elements = wait.until(EC.visibility_of_all_elements_located((By.XPATH,\"//div//div[@class='listing-row__details']\")))\n",
    "    #elements = driver.find_elements(By.XPATH,\"//div//div[@class='listing-row__details']\")\n",
    "    length = len(elements)\n",
    "    print(\"there are \"+str(length) + \" records in page \"+ str(page_count)+\" time:\" + str(dt.datetime.now()))\n",
    "    next = driver.find_element_by_xpath(\"//a[contains(text(),'Next')]\")\n",
    "    \n",
    "    \n",
    "    for element in elements:\n",
    "\n",
    "        year = 2008\n",
    "\n",
    "        try:\n",
    "            mile = element.find_element_by_xpath(\".//span[contains(@class,'listing-row__mileage')]\").text\n",
    "        except:\n",
    "            mile = \"unknown\"\n",
    "\n",
    "        try:\n",
    "            name = element.find_element_by_xpath(\".//h2[contains(@class,'cui-delta listing-row__title')]\").text\n",
    "        except:\n",
    "            name = \"unknown\"\n",
    "\n",
    "        try:\n",
    "            price = element.find_element_by_xpath(\".//span[contains(@class,'listing-row__price')]\").text\n",
    "        except:\n",
    "            price = \"unknown\" \n",
    "\n",
    "        try:\n",
    "            Hyperlink = element.find_element_by_xpath(\".//a\").get_attribute('href')\n",
    "        except:\n",
    "            Hyperlink = \"unknown\"\n",
    "\n",
    "        try:\n",
    "            deal_qualilty = element.find_element_by_xpath(\".//div[contains(@class,'listing-row__price-badge-arrow')]//span\")\n",
    "            deal_qualilty = deal_qualilty.text\n",
    "        except:\n",
    "            deal_qualilty = \"NOT A GOOD DEAL\"\n",
    "\n",
    "        try:\n",
    "            attributes = element.find_elements_by_xpath(\".//ul[contains(@class,'listing-row__meta')]//li\")\n",
    "            attribute = str()\n",
    "            for i in attributes:\n",
    "                attribute = attribute+ \",\" + i.text\n",
    "                attribute = attribute[1:]\n",
    "        except:\n",
    "            attribute = \"unknown\"\n",
    "\n",
    "        temp = pd.DataFrame({\n",
    "        \"year\":year,\n",
    "        \"miles\": mile,\n",
    "        \"name\":name,\n",
    "        \"price\":price,\n",
    "        \"hyperlink\": Hyperlink,\n",
    "        \"deal_qualilty\":deal_qualilty,\n",
    "        \"other_attributes\":attribute\n",
    "        },index= [0])\n",
    "        data = pd.concat([data,temp],axis = 0,ignore_index = True)\n",
    "    if next.is_enabled() == True:\n",
    "        driver.execute_script(\"window.scrollTo(0, 50000)\") \n",
    "        next.click()\n",
    "        total = total + length\n",
    "        page_count = page_count +1\n",
    "    else: \n",
    "        break"
   ]
  },
  {
   "cell_type": "code",
   "execution_count": null,
   "metadata": {
    "collapsed": true
   },
   "outputs": [],
   "source": [
    "print(total )"
   ]
  },
  {
   "cell_type": "code",
   "execution_count": null,
   "metadata": {
    "collapsed": true
   },
   "outputs": [],
   "source": []
  }
 ],
 "metadata": {
  "kernelspec": {
   "display_name": "Python 3",
   "language": "python",
   "name": "python3"
  },
  "language_info": {
   "codemirror_mode": {
    "name": "ipython",
    "version": 3
   },
   "file_extension": ".py",
   "mimetype": "text/x-python",
   "name": "python",
   "nbconvert_exporter": "python",
   "pygments_lexer": "ipython3",
   "version": "3.6.3"
  }
 },
 "nbformat": 4,
 "nbformat_minor": 2
}
