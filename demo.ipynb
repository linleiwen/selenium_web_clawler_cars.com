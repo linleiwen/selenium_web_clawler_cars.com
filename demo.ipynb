{
 "cells": [
  {
   "cell_type": "code",
   "execution_count": 1,
   "metadata": {
    "collapsed": true
   },
   "outputs": [],
   "source": [
    "import car_com_clawer"
   ]
  },
  {
   "cell_type": "markdown",
   "metadata": {},
   "source": [
    "Assume I want to search second hand year 2014 SUV car with $20000 budget in new york city"
   ]
  },
  {
   "cell_type": "code",
   "execution_count": 2,
   "metadata": {},
   "outputs": [
    {
     "name": "stdout",
     "output_type": "stream",
     "text": [
      "there are 100 records in page 1 time:2018-03-22 13:16:42.134386\n",
      "there are 100 records in page 2 time:2018-03-22 13:17:12.673667\n",
      "there are 100 records in page 3 time:2018-03-22 13:17:58.113841\n",
      "there are 100 records in page 4 time:2018-03-22 13:18:25.342481\n",
      "there are 100 records in page 5 time:2018-03-22 13:19:12.005593\n",
      "there are 100 records in page 6 time:2018-03-22 13:19:52.223261\n",
      "there are 100 records in page 7 time:2018-03-22 13:20:39.633332\n",
      "there are 100 records in page 8 time:2018-03-22 13:21:30.864924\n",
      "there are 100 records in page 9 time:2018-03-22 13:22:41.813325\n",
      "there are 100 records in page 10 time:2018-03-22 13:23:42.725230\n",
      "there are 100 records in page 11 time:2018-03-22 13:24:47.161932\n",
      "there are 100 records in page 12 time:2018-03-22 13:25:27.811541\n",
      "there are 100 records in page 13 time:2018-03-22 13:26:58.277577\n",
      "there are 100 records in page 14 time:2018-03-22 13:28:17.398891\n",
      "there are 100 records in page 15 time:2018-03-22 13:29:14.799441\n",
      "there are 100 records in page 16 time:2018-03-22 13:29:56.195270\n",
      "there are 100 records in page 17 time:2018-03-22 13:30:57.061697\n",
      "there are 100 records in page 18 time:2018-03-22 13:32:18.696657\n",
      "there are 100 records in page 19 time:2018-03-22 13:33:37.358514\n",
      "there are 100 records in page 20 time:2018-03-22 13:34:35.896478\n",
      "there are 100 records in page 21 time:2018-03-22 13:36:02.815351\n",
      "there are 100 records in page 22 time:2018-03-22 13:37:48.258752\n",
      "there are 100 records in page 23 time:2018-03-22 13:39:34.121573\n",
      "there are 100 records in page 24 time:2018-03-22 13:41:07.846846\n",
      "there are 100 records in page 25 time:2018-03-22 13:42:37.186669\n",
      "there are 100 records in page 26 time:2018-03-22 13:44:01.480790\n",
      "there are 100 records in page 27 time:2018-03-22 13:47:16.817105\n",
      "there are 100 records in page 28 time:2018-03-22 13:49:46.787029\n",
      "there are 100 records in page 29 time:2018-03-22 13:52:06.907641\n",
      "there are 14 records in page 30 time:2018-03-22 13:54:12.256152\n",
      "  deal_qualilty                                          hyperlink  \\\n",
      "0    GREAT DEAL  https://www.cars.com/vehicledetail/detail/7305...   \n",
      "1    GREAT DEAL  https://www.cars.com/vehicledetail/detail/7301...   \n",
      "2     GOOD DEAL  https://www.cars.com/vehicledetail/detail/7305...   \n",
      "3    GREAT DEAL  https://www.cars.com/vehicledetail/detail/7267...   \n",
      "4    GREAT DEAL  https://www.cars.com/vehicledetail/detail/7180...   \n",
      "\n",
      "         mile                               name object  \\\n",
      "0  50,154 mi.  2014 Mercedes-Benz GLK 350 4MATIC    NaN   \n",
      "1  38,343 mi.               2014 Toyota RAV4 XLE    NaN   \n",
      "2  59,926 mi.                2014 Ford Escape SE    NaN   \n",
      "3  81,101 mi.         2014 Chevrolet Equinox 1LT    NaN   \n",
      "4  45,012 mi.         2014 Jeep Cherokee Limited    NaN   \n",
      "\n",
      "                                    other_attributes    price  year  \n",
      "0  Exterior Color: Black,Interior Color: Black,Tr...  $18,995  2014  \n",
      "1  Exterior Color: Black,Interior Color: Tan,Tran...  $15,995  2014  \n",
      "2  Exterior Color: Black,Interior Color: Gray,Tra...  $13,200  2014  \n",
      "3  Exterior Color: Black,Interior Color: Gray,Tra...  $11,400  2014  \n",
      "4  Exterior Color: White,Interior Color: Black,Tr...  $15,890  2014  \n",
      "there are 2914 in total\n"
     ]
    }
   ],
   "source": [
    "demo = car_com_clawer.leiwen_clawler(body_style='SUV', condition='Used Cars', max_price='$20,000', zip_code=\"10035\", distance='100', year='2014')\n",
    "demo.test()"
   ]
  },
  {
   "cell_type": "code",
   "execution_count": null,
   "metadata": {
    "collapsed": true
   },
   "outputs": [],
   "source": []
  }
 ],
 "metadata": {
  "kernelspec": {
   "display_name": "Python 3",
   "language": "python",
   "name": "python3"
  },
  "language_info": {
   "codemirror_mode": {
    "name": "ipython",
    "version": 3
   },
   "file_extension": ".py",
   "mimetype": "text/x-python",
   "name": "python",
   "nbconvert_exporter": "python",
   "pygments_lexer": "ipython3",
   "version": "3.6.3"
  }
 },
 "nbformat": 4,
 "nbformat_minor": 2
}
