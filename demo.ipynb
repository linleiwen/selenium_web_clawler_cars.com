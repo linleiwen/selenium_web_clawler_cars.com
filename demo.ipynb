{
 "cells": [
  {
   "cell_type": "code",
   "execution_count": 1,
   "metadata": {
    "collapsed": true
   },
   "outputs": [],
   "source": [
    "import car_com_clawer"
   ]
  },
  {
   "cell_type": "markdown",
   "metadata": {},
   "source": [
    "Assume I want to search second hand year 2014 SUV car with $20000 budget in new york city"
   ]
  },
  {
   "cell_type": "code",
   "execution_count": 2,
   "metadata": {},
   "outputs": [
    {
     "name": "stdout",
     "output_type": "stream",
     "text": [
      "there are 100 records in page 1 time:2018-03-22 08:08:33.369665\n",
      "there are 100 records in page 2 time:2018-03-22 08:09:13.417967\n",
      "there are 100 records in page 3 time:2018-03-22 08:09:56.116416\n",
      "there are 100 records in page 4 time:2018-03-22 08:10:33.046984\n",
      "there are 100 records in page 5 time:2018-03-22 08:11:19.529594\n",
      "there are 100 records in page 6 time:2018-03-22 08:12:08.858563\n",
      "there are 100 records in page 7 time:2018-03-22 08:12:57.701567\n",
      "there are 100 records in page 8 time:2018-03-22 08:13:44.934624\n",
      "there are 100 records in page 9 time:2018-03-22 08:14:43.998446\n",
      "there are 100 records in page 10 time:2018-03-22 08:15:52.556777\n",
      "there are 100 records in page 11 time:2018-03-22 08:16:53.953608\n",
      "there are 100 records in page 12 time:2018-03-22 08:17:43.828215\n",
      "there are 100 records in page 13 time:2018-03-22 08:18:58.180527\n",
      "there are 100 records in page 14 time:2018-03-22 08:20:03.761902\n",
      "there are 100 records in page 15 time:2018-03-22 08:21:03.903020\n",
      "there are 100 records in page 16 time:2018-03-22 08:21:43.962751\n",
      "there are 100 records in page 17 time:2018-03-22 08:22:45.828554\n",
      "there are 100 records in page 18 time:2018-03-22 08:24:04.495343\n",
      "there are 100 records in page 19 time:2018-03-22 08:25:08.837461\n",
      "there are 100 records in page 20 time:2018-03-22 08:26:09.067625\n",
      "there are 100 records in page 21 time:2018-03-22 08:27:18.333766\n",
      "there are 100 records in page 22 time:2018-03-22 08:28:45.758078\n",
      "there are 100 records in page 23 time:2018-03-22 08:30:13.885675\n",
      "there are 100 records in page 24 time:2018-03-22 08:31:32.734527\n",
      "there are 100 records in page 25 time:2018-03-22 08:32:52.780918\n",
      "there are 100 records in page 26 time:2018-03-22 08:34:07.196647\n",
      "there are 100 records in page 27 time:2018-03-22 08:35:47.508176\n",
      "there are 100 records in page 28 time:2018-03-22 08:37:19.073178\n",
      "there are 66 records in page 29 time:2018-03-22 08:39:03.459475\n",
      "there are 2866 in total\n"
     ]
    }
   ],
   "source": [
    "demo = car_com_clawer.leiwen_clawler(body_style='SUV', condition='Used Cars', max_price='$20,000', zip_code=\"10035\", distance='100', year='2014')\n",
    "demo.test()"
   ]
  },
  {
   "cell_type": "code",
   "execution_count": null,
   "metadata": {
    "collapsed": true
   },
   "outputs": [],
   "source": []
  }
 ],
 "metadata": {
  "kernelspec": {
   "display_name": "Python 3",
   "language": "python",
   "name": "python3"
  },
  "language_info": {
   "codemirror_mode": {
    "name": "ipython",
    "version": 3
   },
   "file_extension": ".py",
   "mimetype": "text/x-python",
   "name": "python",
   "nbconvert_exporter": "python",
   "pygments_lexer": "ipython3",
   "version": "3.6.3"
  }
 },
 "nbformat": 4,
 "nbformat_minor": 2
}
